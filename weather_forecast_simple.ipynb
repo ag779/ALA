{
  "nbformat": 4,
  "nbformat_minor": 0,
  "metadata": {
    "colab": {
      "provenance": [],
      "authorship_tag": "ABX9TyOSPOsEzDUw6aE9xr+SP48g",
      "include_colab_link": true
    },
    "kernelspec": {
      "name": "python3",
      "display_name": "Python 3"
    },
    "language_info": {
      "name": "python"
    }
  },
  "cells": [
    {
      "cell_type": "markdown",
      "metadata": {
        "id": "view-in-github",
        "colab_type": "text"
      },
      "source": [
        "<a href=\"https://colab.research.google.com/github/ag779/ALA/blob/main/weather_forecast_simple.ipynb\" target=\"_parent\"><img src=\"https://colab.research.google.com/assets/colab-badge.svg\" alt=\"Open In Colab\"/></a>"
      ]
    },
    {
      "cell_type": "code",
      "execution_count": 17,
      "metadata": {
        "id": "wxhOOUexovgQ"
      },
      "outputs": [],
      "source": [
        "import requests"
      ]
    },
    {
      "cell_type": "code",
      "source": [
        "def fetch_weather(api_key, city):\n",
        "    \"\"\" Fetch weather data from OpenWeatherMap API \"\"\"\n",
        "    base_url = \"http://api.openweathermap.org/data/2.5/weather?\"\n",
        "    city_name = city\n",
        "    complete_url = base_url + \"appid=\" + api_key + \"&q=\" + city_name\n",
        "    response = requests.get(complete_url)\n",
        "    return response.json()"
      ],
      "metadata": {
        "id": "R5gBSvmdvl7K"
      },
      "execution_count": 19,
      "outputs": []
    },
    {
      "cell_type": "code",
      "source": [
        "def interpret_data(weather_data):\n",
        "    \"\"\" Interpret and display weather data \"\"\"\n",
        "    if weather_data['cod'] != 404:\n",
        "        main_data = weather_data['main']\n",
        "        temperature = main_data['temp']\n",
        "        pressure = main_data['pressure']\n",
        "        humidity = main_data['humidity']\n",
        "        tempf = round((((temperature-273.15)*9)/5)+32,2)\n",
        "        print(f\"Temperature: {temperature} K or {tempf} F\")\n",
        "        print(f\"Pressure: {pressure} hPa\")\n",
        "        print(f\"Humidity: {humidity}%\")\n",
        "        # ... add more data to display if you wish\n",
        "    else:\n",
        "        print(\"City Not Found\")"
      ],
      "metadata": {
        "id": "-hmXK_64vn8p"
      },
      "execution_count": 21,
      "outputs": []
    },
    {
      "cell_type": "code",
      "source": [
        "def simple_forecast(weather_data):\n",
        "    \"\"\" Basic weather forecasting logic \"\"\"\n",
        "    if weather_data['weather'][0]['main'] == 'Rain':\n",
        "        print(\"It might rain tomorrow as well.\")\n",
        "    else:\n",
        "        print(\"Tomorrow's weather looks clear.\")"
      ],
      "metadata": {
        "id": "dZ-P_DQFwccq"
      },
      "execution_count": 23,
      "outputs": []
    },
    {
      "cell_type": "code",
      "source": [
        "def main():\n",
        "    api_key = \"bf3e56cebc110431d8111e95d08a7b19\"  # Replace with your OpenWeatherMap API key\n",
        "    city = input(\"Enter city name: \")\n",
        "    weather_data = fetch_weather(api_key, city)\n",
        "    interpret_data(weather_data)\n",
        "    simple_forecast(weather_data)\n",
        "if __name__ == \"__main__\":\n",
        "    main()"
      ],
      "metadata": {
        "colab": {
          "base_uri": "https://localhost:8080/"
        },
        "id": "mUc_JP8dw1Tt",
        "outputId": "80836ad1-ee83-4b3e-f30b-c4d1ee43a7b8"
      },
      "execution_count": 33,
      "outputs": [
        {
          "output_type": "stream",
          "name": "stdout",
          "text": [
            "Enter city name: Alpine\n",
            "Temperature: 286.45 K or 55.94 F\n",
            "Pressure: 1019 hPa\n",
            "Humidity: 51%\n",
            "Tomorrow's weather looks clear.\n"
          ]
        }
      ]
    }
  ]
}